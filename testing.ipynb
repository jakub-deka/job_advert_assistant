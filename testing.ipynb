{
 "cells": [
  {
   "cell_type": "code",
   "execution_count": 11,
   "metadata": {},
   "outputs": [],
   "source": [
    "from LLM import *\n",
    "import yaml\n",
    "from Utilities import *\n",
    "from colorama import Back, Fore\n",
    "\n",
    "prompt_template_provider = PromptTemplater(\"./prompts\")\n",
    "\n",
    "with open(\"./llm_configurations/llama3.1-8b-free.yml\", \"r\") as f:\n",
    "    config = yaml.safe_load(f.read())\n",
    "\n",
    "with open(\"./testing/example_job.txt\", \"r\") as f:\n",
    "    example_job = f.read()\n",
    "    \n",
    "llm = LLM(\n",
    "    model_name=config[\"model_name\"],\n",
    "    url=config[\"url\"],\n",
    "    prompt_template=prompt_template_provider.get_prompt(\"format_job_description\"),\n",
    ")"
   ]
  },
  {
   "cell_type": "code",
   "execution_count": 12,
   "metadata": {},
   "outputs": [],
   "source": [
    "response = llm.generate(text_to_format=example_job)"
   ]
  },
  {
   "cell_type": "code",
   "execution_count": 13,
   "metadata": {},
   "outputs": [
    {
     "name": "stdout",
     "output_type": "stream",
     "text": [
      "ChatRole.SYSTEM\n",
      "\n",
      "ChatRole.USER\n",
      "# Instructions\n",
      "\n",
      "You are an expert at formatting messy text. You will be given a messy text that contains a job advert and some additional text that is not relevant to the job advert. You will consider all of this text and extract from the text provided a job advert. You will format that job advert by adding line breaks and emphasis when necessary (e.g. identify headings within the text). Do not modify the job description contained in the data in any way.\n",
      "\n",
      "Do not return anything else before or after the formatted text.\n",
      "\n",
      "# Text to format\n",
      "\n",
      "Anson McCade hiring Director Data Science in London Area, United Kingdom | LinkedIn and 3rd parties use essential and non-essential cookies to provide, secure, analyze and improve our Services, and to show you relevant ads including professional and job ads on and off LinkedIn. Learn more in our Cookie Policy.Select Accept to consent or Reject to decline non-essential cookies for this use. You can update your choices at any time in your settings. Accept Reject Agree & Join LinkedIn By clicking Continue to join or sign in, you agree to LinkedIn’s User Agreement, Privacy Policy, and Cookie Policy. Skip to main content LinkedIn Director Data Science in Caldas da Rainha Expand search This button displays the currently selected search type. When expanded it provides a list of search options that will switch the search inputs to match the current selection. Jobs People Learning Clear text Clear text Clear text Clear text Clear text Join now Sign in Director Data Science Anson McCade London Area, United Kingdom Apply Director Data Science Anson McCade London Area, United Kingdom 1 day ago 35 applicants See who Anson McCade has hired for this role Apply Save Save job Save this job with your existing LinkedIn profile, or create a new one. Your job seeking activity is only visible to you. Email Continue Welcome back Sign in to save Director Data Science at Anson McCade. Email or phone Password Show Forgot password? Sign in Report this job Anson McCade provided pay range This range is provided by Anson McCade. Your actual pay will be based on your skills and experience — talk with your recruiter to learn more. Base pay range £180,000.00/yr - £230,000.00/yr Direct message the job poster from Anson McCade Bobby Daniels Bobby Daniels Senior Information Technology Recruiter Data & AI Director£180,000 - £230,000LondonCurrently working with a leading advisory firm who are in search of a Data & AI Director to join their growing digital practice.You will play a key role in expanding their Artificial Intelligence & Data offering across core sectors, focusing on growing customers, revenue, and profitability. The Data & AI Director position is a great fit for experienced hands-on Data leaders who have both build/set a vision but also remained hands-on in their work. You have worked across blue-chip consulting and lead industry organisations, perhaps as their Chief Data Officer or Head of Data/AI.Responsibilities for the Data & AI Director:• Develop data-driven and analytical approaches for improving company performance.• Apply hands-on experience in analysis and applications of data from various complex, high-volume databases.• Understand and utilize predictive models, machine learning, and AI algorithms to develop data-driven insights and strategies.• Develop tactical tools and solutions to support business strategy execution.• Present technical approaches and findings to a non-technical audience.Qualifications:• Extensive blue-chip consulting experience in Artificial Intelligence & Data is essential.• Hands-on leadership and Data Science experience you must be prepared to remaintechnical.• Preferred industry experience in Retail, CPG, and Private Equity.• Experience with proposal development and strong commercial instincts.• Evidence of leading small, independent, high-performing teams• Demonstrable knowledge of data, technology, and programming languages.The Data & AI Director package: • £180,000 - £230,000• Highly competitive company bonus• Company benefitsTo hear more about our Data & AI Director opportunity, get in touch with Bobby Daniels at Anson McCade on 020 7780 6706. Show more Show less Seniority level Executive Employment type Full-time Job function Information Technology and Consulting Industries Staffing and Recruiting Referrals increase your chances of interviewing at Anson McCade by 2x See who you know Get notified about new Director Data Science jobs in London Area, United Kingdom. Sign in to create job alert Similar jobs Data Science Vice President Data Science Vice President Anson McCade London Area, United Kingdom £90,000.00 - £115,000.00 1 day ago Engineering Director Data & ML Engineering Director Data & ML Storio group London, England, United Kingdom 1 day ago Head of AI / ML Head of AI / ML Proactive Global London, England, United Kingdom 1 month ago Director of AI and Data Science Director of AI and Data Science Mesh-AI London Area, United Kingdom 3 weeks ago Director of Data Science Director of Data Science LexisNexis Intellectual Property Solutions London Area, United Kingdom 2 weeks ago Director of Data Science Director of Data Science Anson McCade London Area, United Kingdom £200,000.00 - £240,000.00 3 weeks ago Head of Health Data Strategy Head of Health Data Strategy Bupa Greater London, England, United Kingdom 3 weeks ago Director of AI Strategy Director of AI Strategy Medpace London, England, United Kingdom 1 week ago VP of Data Science & Analytics VP of Data Science & Analytics Prolific London, England, United Kingdom 4 months ago Director - Data Science Director - Data Science Capgemini Invent London, England, United Kingdom 3 days ago Director, Applied Data Science-R-216397 Director, Applied Data Science-R-216397 Mastercard London, England, United Kingdom 1 week ago Associate Director Data Science Associate Director Data Science Novartis London, England, United Kingdom 1 week ago Director Insights & Analytics Director Insights & Analytics ETS London Area, United Kingdom 1 day ago Head of Health Data Strategy Head of Health Data Strategy Bupa London Area, United Kingdom 1 week ago Director of Data & Analytics Director of Data & Analytics Lawrence Harvey London Area, United Kingdom £110,000.00 - £130,000.00 1 month ago Head of Data and Machine Learning Engineering Head of Data and Machine Learning Engineering ITV Media London, England, United Kingdom 5 days ago Director of Analytics Consulting - Credit Risk Director of Analytics Consulting - Credit Risk Experian London, England, United Kingdom 1 week ago AWM - London - Vice President - Private Equity Data Science AWM - London - Vice President - Private Equity Data Science Goldman Sachs London, England, United Kingdom 2 weeks ago Director of Data Science Director of Data Science QS Quacquarelli Symonds Greater London, England, United Kingdom 3 weeks ago Director/Sr. Director - Analytics Consulting Director/Sr. Director - Analytics Consulting Tiger Analytics London, England, United Kingdom 4 months ago Director of Data Analytics - Product Director of Data Analytics - Product Pleo London, England, United Kingdom 2 weeks ago Manager, Data Science Engineering Manager, Data Science Engineering DraftKings Inc. London, England, United Kingdom 1 week ago Director of Lending and Data Analytics Director of Lending and Data Analytics Carmoola London, England, United Kingdom 1 month ago AI Strategy & Enablement Director AI Strategy & Enablement Director dunnhumby London, England, United Kingdom 2 weeks ago Head of Data & Machine Learning Engineering Head of Data & Machine Learning Engineering ITV London Area, United Kingdom £110,000.00 - £120,000.00 6 days ago Head of Data Engineering Head of Data Engineering Builder.ai London, England, United Kingdom 5 months ago Director, Real-World Analytics Director, Real-World Analytics GSK London, England, United Kingdom 6 days ago Show more jobs like this Show fewer jobs like this People also viewed Director of Data and Analytics Director of Data and Analytics Page Executive City Of London, England, United Kingdom 1 month ago Analytics Associate Director Analytics Associate Director Digitas UK London, England, United Kingdom 3 hours ago Director, Product Management AI/ML Director, Product Management AI/ML Unity London, England, United Kingdom 1 month ago Director/Snr Director, Data Science Consulting - Machine Learning/Artificial Intelligence ML/AI Director/Snr Director, Data Science Consulting - Machine Learning/Artificial Intelligence ML/AI EPAM Systems London, England, United Kingdom 1 week ago Director of Analytics - Marketing Mix Modelling Director of Analytics - Marketing Mix Modelling Peaple Talent London Area, United Kingdom £90,000.00 - £100,000.00 1 week ago Director of Data & Analytics Director of Data & Analytics Catena Media London Area, United Kingdom 1 week ago Commercial Director | SaaS | Data & Analytics | Edtech | Apprenticeships Commercial Director | SaaS | Data & Analytics | Edtech | Apprenticeships Tipped Recruitment London Area, United Kingdom 2 days ago Director of AI and Data Science Director of AI and Data Science ClickJobs.io London, England, United Kingdom 10 hours ago People Analytics, Tech & Projects Director People Analytics, Tech & Projects Director TravelPerk London, England, United Kingdom 1 month ago Director of Data and Analytics Director of Data and Analytics Your World Recruitment Group London, England, United Kingdom 1 month ago Similar Searches Director Marketing Analytics jobs 494 open jobs Director of Analytics jobs 1,756 open jobs Head of Analytics jobs 1,487 open jobs Head of Chemistry jobs 267 open jobs Director Biostatistics jobs 123 open jobs Director of Informatics jobs 168 open jobs Chief Mechanical Engineer jobs 159 open jobs Lead Scientist jobs 1,735 open jobs Chief Technologist jobs 158 open jobs Director of Bioinformatics jobs 207 open jobs Head of Business Analysis jobs 2,461 open jobs Director of Learning jobs 1,406 open jobs Principal Scientist jobs 1,489 open jobs Clinical Team Lead jobs 3,413 open jobs Insights Director jobs 1,913 open jobs Channel Director jobs 1,426 open jobs Senior Data Manager jobs 5,581 open jobs Business Intelligence Project Manager jobs 253 open jobs Senior Healthcare Consultant jobs 2,942 open jobs Senior Scientist jobs 2,288 open jobs Head of Data Management jobs 2,307 open jobs Director of Pricing jobs 440 open jobs Presales Director jobs 572 open jobs Director of Risk Management jobs 1,623 open jobs Director of Software Engineering jobs 495 open jobs Show more Show less Explore collaborative articles We’re unlocking community knowledge in a new way. Experts add insights directly into each article, started with the help of AI. Explore More More searches More searches Director Marketing Analytics jobs Director of Analytics jobs Head of Analytics jobs Head of Chemistry jobs Director Biostatistics jobs Director of Informatics jobs Chief Mechanical Engineer jobs Lead Scientist jobs Chief Technologist jobs Director of Bioinformatics jobs Head of Business Analysis jobs Director of Learning jobs Principal Scientist jobs Clinical Team Lead jobs Insights Director jobs Channel Director jobs Senior Data Manager jobs Business Intelligence Project Manager jobs Senior Healthcare Consultant jobs Senior Scientist jobs Head of Data Management jobs Director of Pricing jobs Presales Director jobs Director of Risk Management jobs Director of Software Engineering jobs Chief Officer jobs Science Director jobs Head of Treasury jobs JCW jobs Assistant Architect jobs Vice President of Product Management jobs Computational Chemist jobs Vice President jobs TransferGo jobs Director of Engineering jobs Director Data Management jobs Platform Director jobs Scientific Director jobs Chief Product Officer jobs Senior Director jobs Senior Director of Product Management jobs Quantitative Developer jobs Senior Technical Recruiter jobs Director Business Intelligence jobs Data Scientist jobs Director jobs Credit Risk Manager jobs Principal Statistician jobs Head of Risk jobs Credit Risk Officer jobs Head of Credit jobs Botify jobs Group Project Manager jobs CGG jobs Data Manager jobs Social Scientist jobs Senior Vice President Communications jobs Director Biology jobs Director of Product Management jobs Information Manager jobs LinkedIn © 2024 About Accessibility User Agreement Privacy Policy Cookie Policy Copyright Policy Brand Policy Guest Controls Community Guidelines العربية Arabic Čeština Czech Dansk Danish Deutsch German English English Español Spanish Français French हिंदी Hindi Bahasa Indonesia Indonesian Italiano Italian 日本語 Japanese 한국어 Korean Bahasa Malaysia Malay Nederlands Dutch Norsk Norwegian Polski Polish Português Portuguese Română Romanian Русский Russian Svenska Swedish ภาษาไทย Thai Tagalog Tagalog Türkçe Turkish Українська Ukrainian 简体中文 Chinese Simplified 正體中文 Chinese Traditional Language LinkedIn Know when new jobs open up Never miss a job alert with the new LinkedIn app for Windows. Get the app You’re signed out Sign in for the full experience. Sign in Join now\n",
      "\n",
      "# Formatted text\n",
      "\n",
      "ChatRole.ASSISTANT\n",
      "**Director Data Science**\n",
      "\n",
      "Anson McCade is hiring a Director Data Science in London Area, United Kingdom.\n",
      "\n",
      "**Job Description:**\n",
      "\n",
      "• Develop data-driven and analytical approaches for improving company performance.\n",
      "• Apply hands-on experience in analysis and applications of data from various complex, high-volume databases.\n",
      "• Understand and utilize predictive models, machine learning, and AI algorithms to develop data-driven insights and strategies.\n",
      "• Develop tactical tools and solutions to support business strategy execution.\n",
      "• Present technical approaches and findings to a non-technical audience.\n",
      "\n",
      "**Qualifications:**\n",
      "\n",
      "• Extensive blue-chip consulting experience in Artificial Intelligence & Data is essential.\n",
      "• Hands-on leadership and Data Science experience you must be prepared to remain technical.\n",
      "• Preferred industry experience in Retail, CPG, and Private Equity.\n",
      "• Experience with proposal development and strong commercial instincts.\n",
      "• Evidence of leading small, independent, high-performing teams.\n",
      "• Demonstrable knowledge of data, technology, and programming languages.\n",
      "\n",
      "**Package:**\n",
      "\n",
      "• £180,000 - £230,000\n",
      "• Highly competitive company bonus\n",
      "• Company benefits\n"
     ]
    }
   ],
   "source": [
    "llm.print_messages()"
   ]
  },
  {
   "cell_type": "code",
   "execution_count": 4,
   "metadata": {},
   "outputs": [],
   "source": [
    "config_path = Path(\"./llm_configurations\")\n",
    "configs = config_path.glob(\"*.yml\")\n",
    "for c in configs:\n",
    "    str(c)"
   ]
  }
 ],
 "metadata": {
  "kernelspec": {
   "display_name": "Python 3",
   "language": "python",
   "name": "python3"
  },
  "language_info": {
   "codemirror_mode": {
    "name": "ipython",
    "version": 3
   },
   "file_extension": ".py",
   "mimetype": "text/x-python",
   "name": "python",
   "nbconvert_exporter": "python",
   "pygments_lexer": "ipython3",
   "version": "3.12.5"
  }
 },
 "nbformat": 4,
 "nbformat_minor": 2
}
